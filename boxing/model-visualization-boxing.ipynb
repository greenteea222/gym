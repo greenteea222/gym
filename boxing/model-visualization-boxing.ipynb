{
 "cells": [
  {
   "cell_type": "code",
   "execution_count": 1,
   "id": "b9a59f02",
   "metadata": {},
   "outputs": [
    {
     "name": "stdout",
     "output_type": "stream",
     "text": [
      "Discrete(18)\n",
      "WARNING:tensorflow:No training configuration found in save file, so the model was *not* compiled. Compile it manually.\n"
     ]
    },
    {
     "name": "stderr",
     "output_type": "stream",
     "text": [
      "WARNING:tensorflow:No training configuration found in save file, so the model was *not* compiled. Compile it manually.\n",
      "D:\\Anaconda\\lib\\site-packages\\gymnasium\\utils\\passive_env_checker.py:335: UserWarning: \u001b[33mWARN: No render fps was declared in the environment (env.metadata['render_fps'] is None or not defined), rendering may occur at inconsistent fps.\u001b[0m\n",
      "  logger.warn(\n"
     ]
    },
    {
     "name": "stdout",
     "output_type": "stream",
     "text": [
      "-3.0 True False 1783\n",
      "3.0 True False 1780\n",
      "7.0 True False 1783\n",
      "-2.0 True False 1781\n",
      "1.0 True False 1777\n",
      "mean reward = 1.2\n"
     ]
    }
   ],
   "source": [
    "import gymnasium as gym\n",
    "import numpy as np\n",
    "import tensorflow as tf\n",
    "from tensorflow.keras import layers\n",
    "import random\n",
    "from collections import deque\n",
    "import matplotlib.pyplot as plt\n",
    "import tensorflow_probability as tfp\n",
    "\n",
    "import matplotlib.pyplot as plt\n",
    "from wrapper import AtariWrapper\n",
    "\n",
    "physical_devices = tf.config.list_physical_devices('GPU')\n",
    "tf.config.experimental.set_memory_growth(physical_devices[0], True)\n",
    "\n",
    "\n",
    "noop_max = 30\n",
    "frame_skip = 4\n",
    "screen_size = 84\n",
    "terminal_on_life_loss = True\n",
    "clip_reward = True\n",
    "action_repeat_probability = 0.0\n",
    "normalize = True\n",
    "\n",
    "# init env and model struct\n",
    "env = gym.make(\"BoxingNoFrameskip-v4\", render_mode=\"human\")\n",
    "env = AtariWrapper(env, noop_max=noop_max, frame_skip=frame_skip, screen_size=screen_size,\n",
    "                   terminal_on_life_loss=terminal_on_life_loss, clip_reward=clip_reward,\n",
    "                   action_repeat_probability=action_repeat_probability, normalize=normalize)\n",
    "\n",
    "print(env.action_space)\n",
    "\n",
    "model = tf.keras.models.load_model(\"./boxing_20240317_141015/model_40\")\n",
    "\n",
    "state = tf.convert_to_tensor(env.reset()[0])\n",
    "state = tf.stack([state, state, state, state], axis=-1)\n",
    "state = tf.expand_dims(state, 0)\n",
    "\n",
    "total_reward = []\n",
    "reward_ = 0\n",
    "for _ in range(5):\n",
    "    done = False\n",
    "    truncated = False\n",
    "    cnt = 0\n",
    "    while not (done or truncated):\n",
    "        cnt += 1\n",
    "        traj_info = model(state)\n",
    "        action = traj_info['a'].numpy()\n",
    "        next_state, reward, done, truncated, info = env.step(action[0])  # 更新状态信息\n",
    "#         action = env.action_space.sample() # 采取一个动作\n",
    "#         next_state, reward, done, truncated, info = env.step(action) # 更新状态信息\n",
    "\n",
    "        reward_ += reward\n",
    "\n",
    "        next_state = tf.expand_dims(next_state, 0)\n",
    "        next_state = tf.stack([state[:, :, :, 1], state[:, :, :, 2], state[:, :, :, 3], next_state], axis=-1)\n",
    "\n",
    "#         print(tf.reduce_mean(next_state - state), action)\n",
    "\n",
    "        state = next_state\n",
    "\n",
    "        env.render()\n",
    "\n",
    "        if done or truncated:\n",
    "            state = tf.convert_to_tensor(env.reset()[0])\n",
    "            state = tf.stack([state, state, state, state], axis=-1)\n",
    "            state = tf.expand_dims(state, 0)\n",
    "            total_reward.append(reward_)\n",
    "\n",
    "            print(reward_, done, truncated, cnt)\n",
    "\n",
    "            reward_ = 0\n",
    "            break\n",
    "\n",
    "average_reward = np.mean(total_reward)\n",
    "\n",
    "print(f\"mean reward = {average_reward}\")\n",
    "env.close()"
   ]
  },
  {
   "cell_type": "code",
   "execution_count": null,
   "id": "0a773e7b",
   "metadata": {},
   "outputs": [],
   "source": []
  }
 ],
 "metadata": {
  "kernelspec": {
   "display_name": "Python 3 (ipykernel)",
   "language": "python",
   "name": "python3"
  },
  "language_info": {
   "codemirror_mode": {
    "name": "ipython",
    "version": 3
   },
   "file_extension": ".py",
   "mimetype": "text/x-python",
   "name": "python",
   "nbconvert_exporter": "python",
   "pygments_lexer": "ipython3",
   "version": "3.9.13"
  }
 },
 "nbformat": 4,
 "nbformat_minor": 5
}
